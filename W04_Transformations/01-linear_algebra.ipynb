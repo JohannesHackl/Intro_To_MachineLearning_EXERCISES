{
  "cells": [
    {
      "cell_type": "markdown",
      "id": "HPZTFisxr03k4vGOZyQlx",
      "metadata": {},
      "source": [
        "# Linear Algebra\n",
        "<article class=\"message is-info\">\n",
        "  <div class=\"message-header\">Overview</div>\n",
        "  <div class=\"message-body\">\n",
        "  \n",
        "  This exercise is a continuation of week 3 exercise Basic Linear Algebra in Python\n",
        ". It introduces how to solve linear systems of equations using linear algebra. The goal is to get familiarized with the concepts of linear algebra and how to use them in Numpy.\n",
        "\n",
        "  \n",
        "  </div>\n",
        "</article>\n",
        "\n",
        "\n",
        "<article class=\"message\">\n",
        "    <div class=\"message-body\">\n",
        "        <strong>List of individual tasks</strong>\n",
        "        <ul style=\"list-style: none;\">\n",
        "            <li>\n",
        "            <a href=\"#inverses\">Task 1: Inverses</a>\n",
        "            </li>\n",
        "            <li>\n",
        "            <a href=\"#inverse_prop\">Task 2: Inverse properties</a>\n",
        "            </li>\n",
        "            <li>\n",
        "            <a href=\"#determinant\">Task 3: The determinant</a>\n",
        "            </li>\n",
        "            <li>\n",
        "            <a href=\"#transpose\">Task 4: Transpose</a>\n",
        "            </li>\n",
        "            <li>\n",
        "            <a href=\"#eqsys\">Task 5: Solving linear equation systems</a>\n",
        "            </li>\n",
        "            <li>\n",
        "            <a href=\"#matmul\">Task 6: Implementing matrix multiplication</a>\n",
        "            </li>\n",
        "            <li>\n",
        "            <a href=\"#extra\">Task 7: Extra exercises</a>\n",
        "            </li>\n",
        "        </ul>\n",
        "    </div>\n",
        "</article>\n",
        "\n",
        "The cell below defines matrices `A`\n",
        ", `B`\n",
        ", `C`\n",
        ", `D`\n",
        ", `E`\n",
        " that are used throughout the exercise:\n"
      ]
    },
    {
      "cell_type": "code",
      "execution_count": 17,
      "id": "i7LcMkb5vfcBe8NMUFZJN",
      "metadata": {},
      "outputs": [],
      "source": [
        "import numpy as np\n",
        "import matplotlib.pyplot as plt\n",
        "\n",
        "# Define matrices to be used in the tasks:\n",
        "A = np.array([\n",
        "    [1, 0.5, 1/3, 0.25],\n",
        "    [0.5, 1/3, 0.25, 0.2],\n",
        "    [1/3, 0.25, 0.2, 1/6],\n",
        "    [0.25, 0.2, 1/6, 1/7]\n",
        "])\n",
        "\n",
        "B = np.array([\n",
        "    [-16, 15, -14, 13],\n",
        "    [-12, 11, -10, 9],\n",
        "    [-8, 7, -6, 5],\n",
        "    [-4, 3, -2, 1]\n",
        "])\n",
        "\n",
        "C = np.array([\n",
        "    [1, 1/2, 1/3, 1/4],\n",
        "    [1/2, 1/3, 1/4, 1/5],\n",
        "    [1/3, 1/5, 1/7, 1/9],\n",
        "    [1/4, 1/7, 1/8, 1/9],\n",
        "])\n",
        "\n",
        "D = np.array([\n",
        "    [2, 4, 5/2],\n",
        "    [-3/4, 2, 0.25],\n",
        "    [0.25, 0.5, 2]\n",
        "])\n",
        "\n",
        "E = np.array([\n",
        "    [1, -0.5, 3/4],\n",
        "    [3/2, 0.5, -2],\n",
        "    [0.25, 1, 0.5]\n",
        "])\n",
        "\n",
        "D_inv = np.linalg.inv(D)\n",
        "E_inv = np.linalg.inv(E)"
      ]
    },
    {
      "cell_type": "markdown",
      "id": "F_zwbb7DImrW-Q2xhJH0_",
      "metadata": {},
      "source": [
        "<article class=\"message task\"><a class=\"anchor\" id=\"inverses\"></a>\n",
        "    <div class=\"message-header\">\n",
        "        <span>Task 1: Inverses</span>\n",
        "        <span class=\"has-text-right\">\n",
        "          <i class=\"bi bi-code\"></i>\n",
        "          \n",
        "          \n",
        "          \n",
        "          <i class=\"bi bi-stoplights easy\"></i>\n",
        "        </span>\n",
        "    </div>\n",
        "<div class=\"message-body\">\n",
        "\n",
        "\n",
        "1. Use [`np.linalg.inv`\n",
        "](https://docs.scipy.org/doc/numpy/reference/generated/numpy.linalg.inv.html)\n",
        " to calculate  the inverse of $A$ and $C$.\n",
        "2. Verify that $AA^{-1}=I$ and $CC^{-1}=I$. If the results differ from your expectations, argue why this is the case. \n",
        "\n",
        "<article class=\"message is-warning\">\n",
        "  <div class=\"message-header\">Hint</div>\n",
        "  <div class=\"message-body\">\n",
        "\n",
        "  The question relates to the limitations of floating point numbers.\n",
        "\n",
        "\n",
        "  </div>\n",
        "</article>\n",
        "\n",
        "\n",
        "</div></article>\n",
        "\n"
      ]
    },
    {
      "cell_type": "code",
      "execution_count": 18,
      "id": "BglW2k38r3vOqIr5O4UFZ",
      "metadata": {},
      "outputs": [
        {
          "data": {
            "text/plain": [
              "array([[   -72.,   -225.,    525.,     42.],\n",
              "       [  1260.,   3675.,  -8820.,   -630.],\n",
              "       [ -3696., -10710.,  25830.,   1764.],\n",
              "       [  2700.,   7830., -18900.,  -1260.]])"
            ]
          },
          "execution_count": 18,
          "metadata": {},
          "output_type": "execute_result"
        }
      ],
      "source": [
        "A_inv = np.linalg.inv(A)\n",
        "C_inv = np.linalg.inv(C)\n",
        "\n",
        "A_inv\n",
        "C_inv"
      ]
    },
    {
      "cell_type": "code",
      "execution_count": 19,
      "id": "c08438f6",
      "metadata": {},
      "outputs": [
        {
          "data": {
            "text/plain": [
              "array([[1., 0., 0., 0.],\n",
              "       [0., 1., 0., 0.],\n",
              "       [0., 0., 1., 0.],\n",
              "       [0., 0., 0., 1.]])"
            ]
          },
          "execution_count": 19,
          "metadata": {},
          "output_type": "execute_result"
        }
      ],
      "source": [
        "np.abs(np.round(A @ A_inv))"
      ]
    },
    {
      "cell_type": "markdown",
      "id": "NrK3uGwK3IxNg56VTTVTM",
      "metadata": {},
      "source": [
        "## Properties\n",
        "<article class=\"message task\"><a class=\"anchor\" id=\"inverse_prop\"></a>\n",
        "    <div class=\"message-header\">\n",
        "        <span>Task 2: Inverse properties</span>\n",
        "        <span class=\"has-text-right\">\n",
        "          <i class=\"bi bi-code\"></i>\n",
        "          \n",
        "          \n",
        "          \n",
        "          <i class=\"bi bi-stoplights easy\"></i>\n",
        "        </span>\n",
        "    </div>\n",
        "<div class=\"message-body\">\n",
        "\n",
        "\n",
        "Use the code cell below to verify that:\n",
        "1. $D^{-1}E^{-1} = (ED)^{-1}$\n",
        "2. $D^{-1}E^{-1} \\neq (DE)^{-1}$\n",
        "\n",
        "\n",
        "\n",
        "</div></article>\n",
        "\n"
      ]
    },
    {
      "cell_type": "code",
      "execution_count": 20,
      "id": "9c2a01d6",
      "metadata": {},
      "outputs": [
        {
          "name": "stdout",
          "output_type": "stream",
          "text": [
            "[[ 0.25261  0.13579 -0.51302]\n",
            " [-0.08601  0.11462  0.1854 ]\n",
            " [ 0.16593 -0.18963  0.17778]]\n",
            "\n",
            "\n",
            "[[ 0.25261  0.13579 -0.51302]\n",
            " [-0.08601  0.11462  0.1854 ]\n",
            " [ 0.16593 -0.18963  0.17778]]\n"
          ]
        }
      ],
      "source": [
        "print(np.round(D_inv @ E_inv, decimals=5))\n",
        "print(\"\\n\")\n",
        "print(np.round(np.linalg.inv(E @ D), decimals=5))"
      ]
    },
    {
      "cell_type": "code",
      "execution_count": 21,
      "id": "dnAQrYI1qSK2N0kBijWHL",
      "metadata": {},
      "outputs": [
        {
          "data": {
            "text/plain": [
              "array([[ True,  True,  True],\n",
              "       [ True,  True,  True],\n",
              "       [ True,  True,  True]])"
            ]
          },
          "execution_count": 21,
          "metadata": {},
          "output_type": "execute_result"
        }
      ],
      "source": [
        "np.round(D_inv @ E_inv, decimals=5) == np.round(np.linalg.inv(E @ D), decimals=5)"
      ]
    },
    {
      "cell_type": "code",
      "execution_count": 22,
      "id": "9382bf3b",
      "metadata": {},
      "outputs": [
        {
          "data": {
            "text/plain": [
              "array([[False, False, False],\n",
              "       [False, False, False],\n",
              "       [False, False, False]])"
            ]
          },
          "execution_count": 22,
          "metadata": {},
          "output_type": "execute_result"
        }
      ],
      "source": [
        "np.round(D_inv @ E_inv, decimals=5) == np.round(np.linalg.inv(D @ E), decimals=5)"
      ]
    },
    {
      "cell_type": "code",
      "execution_count": 23,
      "id": "62cc3a99",
      "metadata": {},
      "outputs": [
        {
          "name": "stdout",
          "output_type": "stream",
          "text": [
            "[[ 0.25261  0.13579 -0.51302]\n",
            " [-0.08601  0.11462  0.1854 ]\n",
            " [ 0.16593 -0.18963  0.17778]]\n",
            "\n",
            "\n",
            "[[ 0.21096 -0.256   -0.1517 ]\n",
            " [-0.15365  0.20571  0.56635]\n",
            " [ 0.05367 -0.28343  0.12834]]\n"
          ]
        }
      ],
      "source": [
        "print(np.round(D_inv @ E_inv, decimals=5))\n",
        "print(\"\\n\")\n",
        "print(np.round(np.linalg.inv(D @ E), decimals=5))"
      ]
    },
    {
      "cell_type": "markdown",
      "id": "cMUZ35QbJ2MvOZAIuAMRF",
      "metadata": {},
      "source": [
        "<article class=\"message task\"><a class=\"anchor\" id=\"determinant\"></a>\n",
        "    <div class=\"message-header\">\n",
        "        <span>Task 3: The determinant</span>\n",
        "        <span class=\"has-text-right\">\n",
        "          <i class=\"bi bi-code\"></i>\n",
        "          \n",
        "          \n",
        "          \n",
        "          <i class=\"bi bi-stoplights easy\"></i>\n",
        "        </span>\n",
        "    </div>\n",
        "<div class=\"message-body\">\n",
        "\n",
        "\n",
        "1. Calculate the determinant of $A$, $B$, and $C$ using [`np.linalg.det`\n",
        "](https://numpy.org/doc/stable/reference/generated/numpy.linalg.det.html<elem-4>.linalg.det)\n",
        ".\n",
        "2. Determine which of the matrices $A,B,C$ have an inverse.\n",
        "3. Calculate the inverses of the matrices using [`np.linalg.inv`\n",
        "](https://numpy.org/doc/stable/reference/generated/numpy.linalg.inv.html<elem-7>.linalg.inv)\n",
        ". Explain what happens and how this is related to your answer in (2).\n",
        "\n",
        "\n",
        "\n",
        "</div></article>\n",
        "\n"
      ]
    },
    {
      "cell_type": "code",
      "execution_count": 24,
      "id": "uL2WDLe1cxxoOWvHmEnv9",
      "metadata": {},
      "outputs": [
        {
          "name": "stdout",
          "output_type": "stream",
          "text": [
            "determinant of B: 2.7733391199176e-32\n",
            "1.65e-07 0.0 1.05e-07\n"
          ]
        }
      ],
      "source": [
        "a_det = np.linalg.det(A)\n",
        "b_det = np.linalg.det(B)\n",
        "c_det = np.linalg.det(C)\n",
        "print(\"determinant of B:\", b_det)\n",
        "print(np.round(a_det, decimals=9), np.round(b_det, decimals=9), np.round(c_det, decimals=9))"
      ]
    },
    {
      "cell_type": "code",
      "execution_count": 25,
      "id": "31fc8f11",
      "metadata": {},
      "outputs": [
        {
          "name": "stdout",
          "output_type": "stream",
          "text": [
            "[[-16  15 -14  13]\n",
            " [-12  11 -10   9]\n",
            " [ -8   7  -6   5]\n",
            " [ -4   3  -2   1]]\n"
          ]
        },
        {
          "data": {
            "text/plain": [
              "array([[-3.00239975e+16,  4.80383960e+16, -6.00479950e+15,\n",
              "        -1.20095990e+16],\n",
              "       [-4.80383960e+16,  7.20575940e+16, -0.00000000e+00,\n",
              "        -2.40191980e+16],\n",
              "       [-6.00479950e+15,  0.00000000e+00,  1.80143985e+16,\n",
              "        -1.20095990e+16],\n",
              "       [ 1.20095990e+16, -2.40191980e+16,  1.20095990e+16,\n",
              "        -0.00000000e+00]])"
            ]
          },
          "execution_count": 25,
          "metadata": {},
          "output_type": "execute_result"
        }
      ],
      "source": [
        "print(B)\n",
        "B_inv = np.linalg.inv(B)\n",
        "B_inv"
      ]
    },
    {
      "cell_type": "markdown",
      "id": "nhGUn2wvNsnpjrP8kaYez",
      "metadata": {},
      "source": [
        "<article class=\"message task\"><a class=\"anchor\" id=\"transpose\"></a>\n",
        "    <div class=\"message-header\">\n",
        "        <span>Task 4: Transpose</span>\n",
        "        <span class=\"has-text-right\">\n",
        "          <i class=\"bi bi-code\"></i>\n",
        "          \n",
        "          \n",
        "          \n",
        "          <i class=\"bi bi-stoplights easy\"></i>\n",
        "        </span>\n",
        "    </div>\n",
        "<div class=\"message-body\">\n",
        "\n",
        "\n",
        "1. Verify that $(D^{-1})^\\top$ and ${D^\\top}^{-1}$ are equal.\n",
        "\n",
        "<article class=\"message is-warning\">\n",
        "  <div class=\"message-header\">Hint</div>\n",
        "  <div class=\"message-body\">\n",
        "  \n",
        "  The transpose of a matrix `A`\n",
        " in Numpy can be calculated with `A.T`\n",
        ".\n",
        "\n",
        "  \n",
        "  </div>\n",
        "</article>\n",
        "\n",
        "\n",
        "\n",
        "</div></article>\n",
        "\n"
      ]
    },
    {
      "cell_type": "code",
      "execution_count": 26,
      "id": "-NfLGSP1pmlO5RFM1HE5a",
      "metadata": {},
      "outputs": [
        {
          "name": "stdout",
          "output_type": "stream",
          "text": [
            "[[ 0.32804233  0.13227513 -0.07407407]\n",
            " [-0.57142857  0.28571429 -0.        ]\n",
            " [-0.33862434 -0.2010582   0.59259259]]\n",
            "\n",
            "\n",
            "[[ 0.32804233  0.13227513 -0.07407407]\n",
            " [-0.57142857  0.28571429  0.        ]\n",
            " [-0.33862434 -0.2010582   0.59259259]]\n"
          ]
        }
      ],
      "source": [
        "D_inv_tra = np.linalg.inv(D.T)\n",
        "D_tra_inv = np.linalg.inv(D).T\n",
        "\n",
        "print(D_inv_tra)\n",
        "print('\\n')\n",
        "print(D_tra_inv)"
      ]
    },
    {
      "cell_type": "markdown",
      "id": "wYPbOkMqnjGe-Gw3b6ns6",
      "metadata": {},
      "source": [
        "## Linear equations\n",
        "Matrices can represent systems of linear equations\n",
        "\n",
        "$$\n",
        "Ax=b\n",
        "$$\n",
        "where $A$ is the coefficient matrix, $x$ the vector of unknowns, and $b$ is the vector of the dependent variables.\n",
        "A solution can be found using\n",
        "\n",
        "$$\n",
        "\\begin{align*}\n",
        "A^{-1}Ax&=A^{-1}b\\\\\n",
        "x &= A^{-1}b.\n",
        "\\end{align*}\n",
        "$$\n",
        "<article class=\"message task\"><a class=\"anchor\" id=\"eqsys\"></a>\n",
        "    <div class=\"message-header\">\n",
        "        <span>Task 5: Solving linear equation systems</span>\n",
        "        <span class=\"has-text-right\">\n",
        "          <i class=\"bi bi-code\"></i>\n",
        "          \n",
        "          \n",
        "          \n",
        "          <i class=\"bi bi-stoplights medium\"></i>\n",
        "        </span>\n",
        "    </div>\n",
        "<div class=\"message-body\">\n",
        "\n",
        "\n",
        "For each of the following sets of linear equations determine whether a unique solution exits. Recall that the determinant \n",
        "can be used to determine whether a matrix has an inverse. Your answers have to be submitted in [Grasple](https://app.grasple.com/#/courses/10532/ci/733997/diagnoses/12886)\n",
        ":\n",
        "a)\n",
        "\n",
        "$$ \n",
        "\\begin{align*}\n",
        "2x + 3y  &= -1\\\\\n",
        "x + y  &= 0\\\\\n",
        "\\end{align*}\n",
        "$$\n",
        "b)\n",
        "\n",
        "$$\n",
        "\\begin{align*}\n",
        "1x + 0y  &= 5\\\\\n",
        "0x + 1y  &= 7\\\\\n",
        "\\end{align*}\n",
        "$$\n",
        "c)\n",
        "\n",
        "$$\n",
        "\\begin{align*}\n",
        "0x + y  &= -1\\\\\n",
        "-2x + -3y  &= 2\\\\\n",
        "\\end{align*}\n",
        "$$\n",
        "d)\n",
        "\n",
        "$$\n",
        "\\begin{align*}\n",
        "x + -3y + 3z &= 0.5\\\\\n",
        "x - 5y + 3z& = 0.5\\\\\n",
        "6z + -6y + 4x &= 1.\n",
        "\\end{align*}\n",
        "$$\n",
        "e)\n",
        "\n",
        "$$\n",
        "\\begin{align*}\n",
        "2x + 3y + 4z &= 2\\\\\n",
        "x + 4z + y &= -2\\\\\n",
        "4z + 5y + 2x &= 3.\n",
        "\\end{align*}\n",
        "$$\n",
        "f)\n",
        "\n",
        "$$\n",
        "\\begin{align*}\n",
        "x + y + z &= 2\\\\\n",
        "2x + 2z + 2y &= -2\\\\\n",
        "3z + 3y + 3x &= 3.\n",
        "\\end{align*}\n",
        "$$\n",
        "\n",
        "\n",
        "</div></article>\n",
        "\n"
      ]
    },
    {
      "cell_type": "code",
      "execution_count": 27,
      "id": "PMYPUJ2zur99s3_ytalw_",
      "metadata": {},
      "outputs": [
        {
          "data": {
            "text/plain": [
              "array([ 1., -1.])"
            ]
          },
          "execution_count": 27,
          "metadata": {},
          "output_type": "execute_result"
        }
      ],
      "source": [
        "A = np.array([[2, 3],[1, 1]])\n",
        "b = np.array([-1, 0])\n",
        "\n",
        "np.linalg.solve(A,b)"
      ]
    },
    {
      "cell_type": "code",
      "execution_count": 28,
      "id": "1bc8b2aa",
      "metadata": {},
      "outputs": [
        {
          "data": {
            "text/plain": [
              "array([5., 7.])"
            ]
          },
          "execution_count": 28,
          "metadata": {},
          "output_type": "execute_result"
        }
      ],
      "source": [
        "A = np.array([[1,0],[0,1]])\n",
        "b = np.array([5,7])\n",
        "\n",
        "np.linalg.solve(A,b)"
      ]
    },
    {
      "cell_type": "code",
      "execution_count": 29,
      "id": "5a1ae517",
      "metadata": {},
      "outputs": [
        {
          "data": {
            "text/plain": [
              "array([ 0.5, -1. ])"
            ]
          },
          "execution_count": 29,
          "metadata": {},
          "output_type": "execute_result"
        }
      ],
      "source": [
        "A = np.array([[0,1],[-2,-3]])\n",
        "b = np.array([-1,2])\n",
        "\n",
        "np.linalg.solve(A,b)"
      ]
    },
    {
      "cell_type": "code",
      "execution_count": 30,
      "id": "3a2abfbc",
      "metadata": {},
      "outputs": [
        {
          "data": {
            "text/plain": [
              "array([7.14285714e-02, 7.59974094e-18, 1.42857143e-01])"
            ]
          },
          "execution_count": 30,
          "metadata": {},
          "output_type": "execute_result"
        }
      ],
      "source": [
        "A = np.array([[1,-3,3],[1,-5,3],[6,-6,4]])\n",
        "b = np.array([0.5,0.5,1])\n",
        "\n",
        "np.linalg.solve(A,b)"
      ]
    },
    {
      "cell_type": "markdown",
      "id": "RhLnV9fJbUZ2PVXGPat6g",
      "metadata": {},
      "source": [
        "## Matrix multiplication (optional)\n",
        "For an $N\\times D$ matrix $A$ and a $D\\times K$ matrix $B$, the \n",
        "matrix multiplication (or matrix product) is an $N\\times K$ matrix $R$. Elements $R_{ij}$ of $R$ can be calculated \n",
        "using the following formula\n",
        "\n",
        "$$\n",
        "R_{ij} = \\sum_{d=1}^D A_{id}B_{dj}.\n",
        "$$\n",
        "In other words, it is the dot product of the $i$'th row vector of $A$ and the $j$'th column vector of $B$.\n",
        "<article class=\"message task\"><a class=\"anchor\" id=\"matmul\"></a>\n",
        "    <div class=\"message-header\">\n",
        "        <span>Task 6: Implementing matrix multiplication</span>\n",
        "        <span class=\"has-text-right\">\n",
        "          <i class=\"bi bi-code\"></i>\n",
        "          \n",
        "          \n",
        "          \n",
        "          <i class=\"bi bi-stoplights medium\"></i>\n",
        "        </span>\n",
        "    </div>\n",
        "<div class=\"message-body\">\n",
        "\n",
        "\n",
        "Implement matrix multiplication in the `matmul`\n",
        " function in the code cell below. You may use either Python lists or Numpy arrays, but the intention is to not use Numpy's functions for matrix multiplication (i.e., `np.dot`\n",
        ", `@`\n",
        ", `np.matmul`\n",
        ", etc.). You may, however, use `np.dot`\n",
        " for the purpose of computing the inner product between row and column vectors.\n",
        "<article class=\"message is-warning\">\n",
        "  <div class=\"message-header\">Hint</div>\n",
        "  <div class=\"message-body\">\n",
        "  \n",
        "  It might be helpful to calculate the correct result by hand first, to make debugging easier.\n",
        "\n",
        "  \n",
        "  </div>\n",
        "</article>\n",
        "\n",
        "\n",
        "\n",
        "</div></article>\n",
        "\n"
      ]
    },
    {
      "cell_type": "code",
      "execution_count": null,
      "id": "LN1znqpjMfNUcrqlokhyv",
      "metadata": {},
      "outputs": [
        {
          "name": "stdout",
          "output_type": "stream",
          "text": [
            "My method:\n",
            " [[ 33.   6.  26.]\n",
            " [ 78.  21.  77.]\n",
            " [123.  36. 128.]]\n",
            "Numpy:\n",
            " [[ 33   6  26]\n",
            " [ 78  21  77]\n",
            " [123  36 128]]\n"
          ]
        }
      ],
      "source": [
        "import numpy as np\n",
        "\n",
        "def matmul(a, b):\n",
        "    bT = matrixTranspose(b)\n",
        "    mr_rows = len(a)\n",
        "    mr_cols = len(b[0])\n",
        "    mr = np.zeros((mr_rows, mr_cols))\n",
        "    for rowA in range(mr_rows):\n",
        "        for rowB in range(mr_rows):\n",
        "            dprod = 0\n",
        "            for col in range(mr_cols):\n",
        "                dprod += a[rowA][col] * bT[rowB][col]\n",
        "            mr[rowA][rowB] = dprod\n",
        "    return mr\n",
        "\n",
        "def matrixTranspose(a):\n",
        "    aT = np.zeros_like(a)\n",
        "    for col in range(len(a[0])):            # for each column in b\n",
        "        for row in range(len(a)):           # access each row\n",
        "            aT[col][row] = a[row][col]      # flip the matrix\n",
        "    return aT\n",
        "\n",
        "#-------------------------------\n",
        "\n",
        "ma = [\n",
        "    [1, 2, 3],\n",
        "    [4, 5, 6],\n",
        "    [7, 8, 9]\n",
        "]\n",
        "\n",
        "mb = [\n",
        "    [5, 4, 9],\n",
        "    [2, 1, 7],\n",
        "    [8, 0, 1]\n",
        "]\n",
        "\n",
        "result = matmul(ma, mb)\n",
        "\n",
        "print(\"My method:\\n\", result)\n",
        "print(\"Numpy:\\n\", np.array(ma) @ np.array(mb))"
      ]
    },
    {
      "cell_type": "markdown",
      "id": "SqyZAcDfjlyH0nid7kLv2",
      "metadata": {},
      "source": [
        "<article class=\"message task\"><a class=\"anchor\" id=\"extra\"></a>\n",
        "    <div class=\"message-header\">\n",
        "        <span>Task 7: Extra exercises</span>\n",
        "        <span class=\"has-text-right\">\n",
        "          \n",
        "          \n",
        "          <i class=\"bi bi-lightbulb-fill\"></i>\n",
        "          \n",
        "          <i class=\"bi bi-stoplights easy\"></i>\n",
        "        </span>\n",
        "    </div>\n",
        "<div class=\"message-body\">\n",
        "\n",
        "\n",
        "Additional exercises are available on Grasple. Complete these if you need more practice with fundamental linear algebra operations and properties:\n",
        "1. [Matrix Operations](https://app.grasple.com/#/courses/10532/ci/694300/subjects/3936)\n",
        "\n",
        "2. [Addition, Scalar Multiplication and Transposition](https://app.grasple.com/#/courses/10532/ci/694301/subjects/3935)\n",
        "\n",
        "3. [Inverse Matrices](https://app.grasple.com/#/courses/10532/ci/735682/subjects/3939)\n",
        "\n",
        "\n",
        "\n",
        "\n",
        "</div></article>\n",
        "\n"
      ]
    }
  ],
  "metadata": {
    "kernelspec": {
      "display_name": "damin2025",
      "language": "python",
      "name": "python3"
    },
    "language_info": {
      "codemirror_mode": {
        "name": "ipython",
        "version": 3
      },
      "file_extension": ".py",
      "mimetype": "text/x-python",
      "name": "python",
      "nbconvert_exporter": "python",
      "pygments_lexer": "ipython3",
      "version": "3.12.11"
    }
  },
  "nbformat": 4,
  "nbformat_minor": 5
}
