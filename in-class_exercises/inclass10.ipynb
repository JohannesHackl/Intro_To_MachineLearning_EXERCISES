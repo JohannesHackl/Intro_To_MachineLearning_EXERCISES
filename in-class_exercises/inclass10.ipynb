{
  "metadata": {
    "kernelspec": {
      "display_name": "Python",
      "language": "python3",
      "name": "python3"
    },
    "language_info": {
      "codemirror_mode": {
        "name": "ipython",
        "version": 3
      },
      "file_extension": "py",
      "mimetype": "text/x-python",
      "name": "python"
    }
  },
  "nbformat": 4,
  "nbformat_minor": 5,
  "cells": [
    {
      "cell_type": "code",
      "id": "css_setup",
      "metadata": {
        "jupyter": {
          "source_hidden": true
        }
      },
      "source": [
        "import requests\n",
        "from IPython.core.display import HTML\n",
        "HTML(f\"\"\"\n",
        "<style>\n",
        "@import \"https://cdn.jsdelivr.net/npm/bulma@0.9.4/css/bulma.min.css\";\n",
        "</style>\n",
        "\"\"\")"
      ],
      "execution_count": 0,
      "outputs": []
    },
    {
      "cell_type": "markdown",
      "id": "-3qeu86C1f6xx1Ac_Uxx4",
      "metadata": {},
      "source": [
        "# Principal Component Analysis (PCA)\n",
        "In this in-class exercise you will be guided through the steps necessary for implementing a PCA on a sequence of human poses. You will work with the poses data, which was used for the exercises in week 2\n",
        ". The dataset has a shape of $(1403, 100, 25*2)$. This means that there are 1403 pose sequences. Each sequence is a 100-frames time series capturing human poses. Each pose consists of 25 skeletal joints, where each joint is an x and y coordinate ($25*2$). For this exercise, you will use a single pose sequence of 100 frames and apply dimension reduction to the selected sequence. \n",
        "The following cells loads the libraries, the dataset and provides functions for plotting the poses:\n",
        ""
      ]
    },
    {
      "cell_type": "code",
      "id": "Ow5UYaswwZDzgz_ODPgo7",
      "metadata": {},
      "source": [
        "import numpy as np\n",
        "import matplotlib.pyplot as plt\n",
        "import warnings\n",
        "import seaborn as sns\n",
        "from pca_utils import *\n",
        "\n",
        "# Suppress the specific warning\n",
        "warnings.filterwarnings(\"ignore\")"
      ],
      "execution_count": 0,
      "outputs": []
    },
    {
      "cell_type": "markdown",
      "id": "vasqnJHad8SCZZ7pCNZN3",
      "metadata": {},
      "source": [
        "## 1. Data inspection\n",
        "The cell below:\n",
        "1. Loads the data and constructs the data matrix.\n",
        "2. Reshapes the data into a $100x50$ data-matrix where each row contains a flattened vector of a pose.\n",
        "3. Selects the first 40 frames from a single pose sequence and plot it.\n",
        "\n",
        "\n",
        "---\n",
        "**Task 1 (easy): Loading and inspecting the data👩‍💻**\n",
        "1. Run the code cell below.\n",
        "2. Change the code to display the sequences 4,5,7 and visually observe how these sequences vary. \n",
        "\n",
        "\n",
        "---"
      ]
    },
    {
      "cell_type": "code",
      "id": "SrcvA3rxnxB3a4fR1A4M2",
      "metadata": {},
      "source": [
        "data = np.load('poses_norm.npy')\n",
        "print(data.shape)\n",
        "N,T,D,C = data.shape\n",
        "reshaped_data = data.reshape(N,T,D*C)\n",
        "dataset = reshaped_data[19]\n",
        "print(reshaped_data.shape)\n",
        "\n",
        "# Define the new desired shape (40, 50)\n",
        "nr_of_frames=40\n",
        "new_shape = (nr_of_frames, 50)\n",
        "# Reshape the array to the new shape\n",
        "reshaped_data2 = np.empty(new_shape)  # Create an empty array with the new shape\n",
        "reshaped_data2[:] = dataset[:new_shape[0], :]  \n",
        "print(dataset.shape)\n",
        "\n",
        "plot_single_sequence(reshaped_data2,pose_name='Pose',color='blue')"
      ],
      "execution_count": 0,
      "outputs": []
    },
    {
      "cell_type": "markdown",
      "id": "sNj2AsuflgHfnAqoojsZz",
      "metadata": {},
      "source": [
        "## 2. Covariance matrix\n",
        "In the following tasks you will construct and inspect the covariance matrix for a given pose sequence. \n",
        "\n",
        "---\n",
        "**Task 2 (easy): Covariance matrix - NumPy method👩‍💻**\n",
        "1. Run the cell below to obtain and plot the covariance matrix. \n",
        "2. What does the heatmap tell us about the relationship between the variables (skeletal joint coordinates)? \n",
        "\n",
        "\n",
        "---"
      ]
    },
    {
      "cell_type": "code",
      "id": "M8r_mKViatrH0PHIgEIjc",
      "metadata": {},
      "source": [
        "# Calculate the covariance matrix for the entire dataset\n",
        "cov_matrix = np.cov(dataset, rowvar=False)\n",
        "# Plotting\n",
        "sns.heatmap(cov_matrix, cmap='coolwarm')"
      ],
      "execution_count": 0,
      "outputs": []
    },
    {
      "cell_type": "markdown",
      "id": "DF8vt1PqpyBHEu5j-ebtY",
      "metadata": {},
      "source": [
        "Currently, the dataset is organized by frames, with each frame having alternating x and y coordinates in the order:  $[x_1, y_1, x_2, y_2, \\dots, x_{25}, y_{25}]$. The cell below rearranges the data for illustrative purposes, grouping all x-coordinates first, followed by all y-coordinates: $[x_1, x_2, \\dots, x_{25}, y_1, y_2, \\dots, y_{25}]$.\n",
        ""
      ]
    },
    {
      "cell_type": "code",
      "id": "_Y3h60skcV3L257NQCcG6",
      "metadata": {},
      "source": [
        "# Get the number of rows and columns in the dataset\n",
        "num_rows, num_columns = dataset.shape\n",
        "\n",
        "# Separate even and odd columns\n",
        "even_indexes = np.arange(0, num_columns, 2)  # Even indexes (0, 2, 4, ...)\n",
        "odd_indexes = np.arange(1, num_columns, 2)   # Odd indexes (1, 3, 5, ...)\n",
        "\n",
        "# Rearrange the dataset\n",
        "rearranged_dataset = dataset[:, np.concatenate((even_indexes, odd_indexes))]"
      ],
      "execution_count": 0,
      "outputs": []
    },
    {
      "cell_type": "markdown",
      "id": "kB08RFxabyy_NEWzOpPde",
      "metadata": {},
      "source": [
        "\n",
        "---\n",
        "**Task 3 (easy): Covariance matrix - rearranged data👩‍💻**\n",
        "1. Run the cell below to obtain and plot the covariance matrix of the rearranged data. \n",
        "\n",
        "\n",
        "---"
      ]
    },
    {
      "cell_type": "code",
      "id": "5-5QefdB92AtDhba8krjx",
      "metadata": {},
      "source": [
        "cov_matrix_rearranged = np.cov(rearranged_dataset, rowvar=False)\n",
        "sns.heatmap(cov_matrix_rearranged, cmap='coolwarm')"
      ],
      "execution_count": 0,
      "outputs": []
    },
    {
      "cell_type": "markdown",
      "id": "GgwLGevKBPqUmVpxWxc9Q",
      "metadata": {},
      "source": [
        "\n",
        "---\n",
        "**Task 4 (medium): Implement your own covariance matrix _(optional)_👩‍💻**\n",
        "The following task should only be completed if you have extra time and want to try constructing the covariance matrix yourself. Use the `rearranged_dataset`\n",
        " to:\n",
        "1. Construct the covariance matrix $\\mathbf{C}$:\n",
        "\n",
        "\n",
        "$$\n",
        "\n",
        "\\mathbf{C} = \\frac{1}{N} \\sum_{i=1}^{N} (\\mathbf{x}_i - \\boldsymbol{\\bar{x}})(\\mathbf{x}_i - \\boldsymbol{\\bar{x}})^\\top\n",
        "\n",
        "$$\n",
        "where $\\mathbf{x}_i$ represents the $i$-th coordinate in the dataset and $\\boldsymbol{\\bar{x}}$ is the mean vector obtained by averaging the coordinates for each joint $\\boldsymbol{\\bar{x}} = \\frac{1}{N} \\sum_{i=1}^{N} \\mathbf{x}_i$\n",
        "\n",
        "**Hint**\n",
        "To center the data first calculate the mean vector, then subtract it from each data point of the pose sequence.\n",
        "\n",
        "2. Create a heatmap of the covariance matrix.\n",
        "3. Compare the covariance matrix obtained in this task to the one obtained in the previous task. How and why are they similar/different?\n",
        "\n",
        "\n",
        "---"
      ]
    },
    {
      "cell_type": "code",
      "id": "PDUus300Oee_bpnS-IDXI",
      "metadata": {},
      "source": [
        "# write your solution here"
      ],
      "execution_count": 0,
      "outputs": []
    },
    {
      "cell_type": "markdown",
      "id": "4Nr2lHdKEHRwJnpCkB0B3",
      "metadata": {},
      "source": [
        "\n",
        "---\n",
        "**Task 5 (easy): Reflection _(optional)_💡**\n",
        "1. How would you change the above pipeline for obtaining the covariance matrix for all of the 1403 pose sequences? \n",
        "\n",
        "\n",
        "---## 3. Eigenvalues and eigenvectors\n",
        "The following steps involve implementing the eigen decomposition of the covariance matrix.\n",
        "\n",
        "---\n",
        "**Task 6 (easy): Eigen decomposition👩‍💻**\n",
        "1. Run the cell below to find the eigenvalues and eigenvectors of the covariance matrix.\n",
        "2. Plot the eigenvalues as in the plot below.\n",
        "\n",
        "\n",
        "---"
      ]
    },
    {
      "cell_type": "code",
      "id": "GfL38Rm8h7pnH-Z7_Oh_r",
      "metadata": {},
      "source": [
        "eigenvalues, eigenvectors = np.linalg.eigh(cov_matrix)\n",
        "\n",
        "# write your solution here"
      ],
      "execution_count": 0,
      "outputs": []
    },
    {
      "cell_type": "markdown",
      "id": "QCSZDI4aGFfn7TX1Ofv3O",
      "metadata": {},
      "source": [
        "\n",
        "---\n",
        "**Task 7 (easy): Properties of eigenvalues and eigenvectors👩‍💻**\n",
        "1. Determine whether all of the eigenvalues are non-negative (greater than or equal to 0)\n",
        "2. Verify that the obtained eigenvectors are orthogonal. An efficient way is to use the definition of an orthonormal matrix ($A^ \\top A=I$). Alternatively, you can verify them individually.\n",
        "\n",
        "\n",
        "**Hint**\n",
        "Notice that the values may be slightly imprecise due to the finite precision of numerical representations. You can use `np.isclose`\n",
        " to check whether two values are close to each other or not.\n",
        "\n",
        "3. What is the total variance of the dataset? \n",
        "\n",
        "\n",
        "**Hint**\n",
        "The sum of all eigenvalues should equal the total variance in the original data, however due to numerical imprecision you might get slightly different values.\n",
        "\n",
        "\n",
        "---"
      ]
    },
    {
      "cell_type": "code",
      "id": "UfcVltj7T6qv9FmGNHMvv",
      "metadata": {},
      "source": [
        "# Write your solution here"
      ],
      "execution_count": 0,
      "outputs": []
    },
    {
      "cell_type": "markdown",
      "id": "cd4A-rfd4eJKFpMtypR8_",
      "metadata": {},
      "source": [
        "\n",
        "---\n",
        "**Task 8 (easy): Sorting Eigenvalues and Eigenvectors👩‍💻**\n",
        "1. Use [np.argsort](https://numpy.org/doc/stable/reference/generated/numpy.argsort.html)\n",
        " to get the list of permutation indices of the eigenvalues in descending order, then sort them. \n",
        "2. Use the list of indices to sort the eigenvectors based on the eigenvalues. \n",
        "3. Plot the sorted eigenvalues. The plot should have a similar shape as the figure below.\n",
        "\n",
        "\n",
        "---"
      ]
    },
    {
      "cell_type": "code",
      "id": "Le7dox3r9QL8EKN_wxweK",
      "metadata": {},
      "source": [
        "# Write your solution here"
      ],
      "execution_count": 0,
      "outputs": []
    },
    {
      "cell_type": "markdown",
      "id": "YFLsWXjof_PYpF3hr5fwY",
      "metadata": {},
      "source": [
        "\n",
        "**Info**\n",
        "We can chose to retain a certain percentage of the total variation by selecting the number of principal components where the sum of the eigenvalues correspond to the desired variance. It is convenient to calculate the acummulative sum of the eigenvalues (sum of the variances) to easily determine the number of components needed for retaining a certain percentage of the total variance. This can be achieved using the [`cumsum`\n",
        "](https://numpy.org/doc/stable/reference/generated/numpy.cumsum.html)\n",
        " function. \n",
        "\n",
        "\n",
        "---\n",
        "**Task 9 (easy): Retain variance👩‍💻**\n",
        "Run the cell below to calculate the normalized cumulative explained variance.\n",
        "1. Plot the cumulative variance as in the figure below.\n",
        "2. How many components are needed to retain: $50$%, $80$%, $90$%, $95$% of the variation\n",
        "3. For the following tasks, select $k$ such that $95$% of the variation is retained.\n",
        "\n",
        "\n",
        "---"
      ]
    },
    {
      "cell_type": "code",
      "id": "3F_PeOWbhrhi7uX_OVwdu",
      "metadata": {},
      "source": [
        "cumulative_variance_ratio = np.cumsum(sorted_eigenvalues) / np.sum(sorted_eigenvalues)\n",
        "\n",
        "# Write your solution here"
      ],
      "execution_count": 0,
      "outputs": []
    },
    {
      "cell_type": "markdown",
      "id": "0Zrae3cWlE8z4YiC-l_R_",
      "metadata": {},
      "source": [
        "# PCA - In-class week 2\n",
        "## 4. Mixing parameters\n",
        "The following section describes how much each variable (x or y coordinates of a shape) contributes to the selected principal components:\n",
        "\n",
        "---\n",
        "**Task 10 (medium): Mixing parameters👩‍💻**\n",
        "1. Change the cell below to construct the orthonormal matrix $\\Phi$ containing the first $k = 9$ eigenvectors, where:\n",
        "\n",
        "\n",
        "$$\n",
        "{\\Phi} = \n",
        "\\begin{bmatrix}\n",
        "    | & | & \\cdots & | \\\\\n",
        "    \\Phi_1 & \\Phi_2 & \\cdots & \\Phi_9 \\\\\n",
        "    | & | & \\cdots & |\n",
        "\\end{bmatrix}\n",
        "$$\n",
        "2. Define the mixing parameters $m_i = \\sqrt{\\lambda_i} \\Phi_{i} $, where $\\Phi_{i}$ represents the $i$-th column of $\\Phi$   and $\\lambda_i$ represents the corresponding eigenvalue. \n",
        "\n",
        "\n",
        "---"
      ]
    },
    {
      "cell_type": "code",
      "id": "KaYMDCOHLTOu2Pp3eLQ2Y",
      "metadata": {},
      "source": [
        "# Write your solution here\n",
        "\n",
        "\n",
        "print(mixing_params.shape)"
      ],
      "execution_count": 0,
      "outputs": []
    },
    {
      "cell_type": "markdown",
      "id": "3LlSZaZ1JMH8dNIk-N8Sc",
      "metadata": {},
      "source": [
        "\n",
        "---\n",
        "**Task 11 (medium): Plot the mixing parameters💡**\n",
        "1. Run the cell below to make a plot that illustrates how much each $x,y$ variable of the shape contributes to the principal components. \n",
        "2. Use the plot to describe how each of the principal components make use of the different variables of the pose coordinates in the original data. \n",
        "3. What do positive and negative values in the principal components indicate, and how do they relate to the original data?\n",
        "\n",
        "\n",
        "---"
      ]
    },
    {
      "cell_type": "code",
      "id": "u2B_NU7lW-d7H4sePpx6K",
      "metadata": {},
      "source": [
        "num_variables = dataset.shape[1]\n",
        "bar_width = 0.4  # Width of the bars\n",
        "\n",
        "# Plotting only the first two principal components\n",
        "plot_pca_loadings(\n",
        "    mixing_params=mixing_params,\n",
        "    dataset=dataset,\n",
        "    bar_width=0.4,\n",
        "    colors=['skyblue', 'salmon'],  \n",
        "    component_indices=[1, 2],      \n",
        "    show_individual=True,\n",
        "    show_combined=True,\n",
        "    save_plots=False               \n",
        ")\n",
        "\n",
        "plot_pose_with_numbers(dataset[12])"
      ],
      "execution_count": 0,
      "outputs": []
    },
    {
      "cell_type": "markdown",
      "id": "FL35uwJhFkouOFVLYO0NR",
      "metadata": {},
      "source": [
        ""
      ]
    },
    {
      "cell_type": "code",
      "id": "TOmz-ZqtIkTflqfoj-17V",
      "metadata": {},
      "source": [
        "# Write your solution here"
      ],
      "execution_count": 0,
      "outputs": []
    },
    {
      "cell_type": "markdown",
      "id": "Kj6O1LvtaQHU5dMw3FZQE",
      "metadata": {},
      "source": [
        "## 5. Generative process - Projecting to latent space and back\n",
        "The pose data can be mapped to the latent space spanned by the principal components (eigenvectors) by: \n",
        "$$\\Phi^\\top(x-\\mu)$$\n",
        " where \n",
        "\n",
        "$$\n",
        "{\\Phi} = \n",
        "\\begin{bmatrix}\n",
        "    | & | & \\cdots & | \\\\\n",
        "    \\Phi_1 & \\Phi_2 & \\cdots & \\Phi_9 \\\\\n",
        "    | & | & \\cdots & |\n",
        "\\end{bmatrix}\n",
        "$$\n",
        "and $\\Phi_i$ are the eigenvectors.\n",
        "The following steps will implement this process. \n",
        "\n",
        "---\n",
        "**Task 12 (easy): Project to subspace👩‍💻**\n",
        "Run the cell below to center the data. Use the centered data to:\n",
        "1. Project the original data onto the selected eigenvectors using $\\Phi^\\top(x-\\mu)$. \n",
        "\n",
        "2. Plot the projected data.\n",
        "\n",
        "\n",
        "\n",
        "---"
      ]
    },
    {
      "cell_type": "code",
      "id": "9AIqCosTeKUZ5ol8bk7H7",
      "metadata": {},
      "source": [
        "# Calculate the mean vector\n",
        "mean_vector = np.mean(dataset, axis=0)\n",
        "\n",
        "# Subtract the mean from each data point\n",
        "centered_data = dataset - mean_vector\n",
        "\n",
        "# Write your solution here\n",
        "\n",
        "\n",
        "plot_pca_pairwise_scatter(\n",
        "    dataset=dataset,\n",
        "    phi=phi,\n",
        "    num_components=9,                \n",
        "    figsize=(12, 12),\n",
        "    marker='.',\n",
        "    xlim=(-1, 1),\n",
        "    ylim=(-1, 1)                         \n",
        ")\n",
        "\n",
        "print(projected_data.T.shape)"
      ],
      "execution_count": 0,
      "outputs": []
    },
    {
      "cell_type": "markdown",
      "id": "OsqPNxZ0KCz2inaQlT2xF",
      "metadata": {},
      "source": [
        "\n",
        "---\n",
        "**Task 13 (easy): Re-project from latent space to original data space👩‍💻**\n",
        "1. Project the data from the latent space to the original data space using $\\Phi x + \\mu$.\n",
        "\n",
        "\n",
        "---"
      ]
    },
    {
      "cell_type": "code",
      "id": "Hu4vQOTsMWOhfkelI3ItQ",
      "metadata": {},
      "source": [
        "# Write your solution here\n",
        "\n",
        "\n",
        "print(reconstructed_data.shape)"
      ],
      "execution_count": 0,
      "outputs": []
    },
    {
      "cell_type": "markdown",
      "id": "XfJIl_5crbb7TPn_bTA7H",
      "metadata": {},
      "source": [
        "\n",
        "---\n",
        "**Task 14 (medium): Plotting original and reconstructed data👩‍💻**\n",
        "1. Run the cell below to plot the first `nr_of_frames`\n",
        " from the original and the reconstructed data. \n",
        "\n",
        "\n",
        "---"
      ]
    },
    {
      "cell_type": "code",
      "id": "Oyqx2P-TnnEx2kObBcgKv",
      "metadata": {},
      "source": [
        "# Write your solution here\n",
        "\n",
        "\n",
        "# Define the new shape you want (40, 50)\n",
        "nr_of_frames=40\n",
        "\n",
        "reshaped_original = dataset[:nr_of_frames, :].reshape(nr_of_frames, -1)\n",
        "reshaped_reconstructed = reconstructed_data[:nr_of_frames, :].reshape(nr_of_frames, -1)\n",
        "plot_single_sequence(reshaped_original, pose_name='Original', color='blue')\n",
        "\n",
        "# Plot reconstructed sequence\n",
        "plot_single_sequence(reshaped_reconstructed, pose_name='Reconstructed', color='red')"
      ],
      "execution_count": 0,
      "outputs": []
    },
    {
      "cell_type": "markdown",
      "id": "GxXbvhCIaOpWca6wCXIzo",
      "metadata": {},
      "source": [
        "\n",
        "---\n",
        "**Task 15 (easy): Changing the number of components👩‍💻**\n",
        "1. Use the `pca_reconstruction`\n",
        " function below to rerun the analysis by changing the number of components $k = 1,2,4,40 $.\n",
        "\n",
        "\n",
        "---"
      ]
    },
    {
      "cell_type": "code",
      "id": "UC1AdKcWHM8K2bgqubINo",
      "metadata": {},
      "source": [
        "# function for PCA\n",
        "pca_reconstruction(dataset=dataset, k=9, variance_retained=0.95, num_frames=40)"
      ],
      "execution_count": 0,
      "outputs": []
    },
    {
      "cell_type": "markdown",
      "id": "qa3iewvQKzaWu2rcJX2BA",
      "metadata": {},
      "source": [
        ""
      ]
    }
  ]
}