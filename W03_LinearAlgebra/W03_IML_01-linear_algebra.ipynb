{
  "cells": [
    {
      "cell_type": "code",
      "execution_count": 2,
      "id": "css_setup",
      "metadata": {
        "jupyter": {
          "source_hidden": true
        }
      },
      "outputs": [
        {
          "data": {
            "text/html": [
              "\n",
              "<style>\n",
              "@import \"https://cdn.jsdelivr.net/npm/bulma@0.9.4/css/bulma.min.css\";\n",
              "</style>\n"
            ],
            "text/plain": [
              "<IPython.core.display.HTML object>"
            ]
          },
          "execution_count": 2,
          "metadata": {},
          "output_type": "execute_result"
        }
      ],
      "source": [
        "import requests\n",
        "from IPython.core.display import HTML\n",
        "HTML(f\"\"\"\n",
        "<style>\n",
        "@import \"https://cdn.jsdelivr.net/npm/bulma@0.9.4/css/bulma.min.css\";\n",
        "</style>\n",
        "\"\"\")"
      ]
    },
    {
      "cell_type": "markdown",
      "id": "fkxLJ8D0NPBEHmeAqxTDw",
      "metadata": {},
      "source": [
        "# Linear Algebra\n",
        "<article class=\"message is-info\">\n",
        "  <div class=\"message-header\">Overview</div>\n",
        "  <div class=\"message-body\">\n",
        "  \n",
        "  This exercise introduces fundamental linear algebra operations in Numpy and how to use them to solve linear systems of equations. The goal is to get familiarized with the concepts of linear algebra and how to use them in Numpy.\n",
        "\n",
        "  \n",
        "  </div>\n",
        "</article>\n",
        "\n",
        "\n",
        "<article class=\"message\">\n",
        "    <div class=\"message-body\">\n",
        "        <strong>List of individual tasks</strong>\n",
        "        <ul style=\"list-style: none;\">\n",
        "            <li>\n",
        "            <a href=\"#diff\">Task 1: Elementwise difference</a>\n",
        "            </li>\n",
        "            <li>\n",
        "            <a href=\"#mul_prop\">Task 2: Multiplication properties</a>\n",
        "            </li>\n",
        "            <li>\n",
        "            <a href=\"#elem_mul\">Task 3: Elementwise multiplication - Hadamard pr…</a>\n",
        "            </li>\n",
        "        </ul>\n",
        "    </div>\n",
        "</article>\n",
        "\n",
        "The cell below defines matrices `A`\n",
        ", `B`\n",
        ", `C`\n",
        ", `D`\n",
        ", `E`\n",
        " that are used throughout the exercise:\n"
      ]
    },
    {
      "cell_type": "code",
      "execution_count": 3,
      "id": "p2oRENdxtMRDuAKNwlNcN",
      "metadata": {},
      "outputs": [],
      "source": [
        "import numpy as np\n",
        "import matplotlib.pyplot as plt"
      ]
    },
    {
      "cell_type": "markdown",
      "id": "nzzSTLcAl3pZFJnAds-mO",
      "metadata": {},
      "source": []
    },
    {
      "cell_type": "code",
      "execution_count": 4,
      "id": "ggNTRz9T1GKH2cxIntF9D",
      "metadata": {},
      "outputs": [],
      "source": [
        "# Define matrices to be used in the tasks:\n",
        "A = np.array([\n",
        "    [1, 0.5, 1/3, 0.25],\n",
        "    [0.5, 1/3, 0.25, 0.2],\n",
        "    [1/3, 0.25, 0.2, 1/6],\n",
        "    [0.25, 0.2, 1/6, 1/7]\n",
        "])\n",
        "\n",
        "B = np.array([\n",
        "    [-16, 15, -14, 13],\n",
        "    [-12, 11, -10, 9],\n",
        "    [-8, 7, -6, 5],\n",
        "    [-4, 3, -2, 1]\n",
        "])\n",
        "\n",
        "C = np.array([\n",
        "    [1, 1/2, 1/3, 1/4],\n",
        "    [1/2, 1/3, 1/4, 1/5],\n",
        "    [1/3, 1/5, 1/7, 1/9],\n",
        "    [1/4, 1/7, 1/8, 1/9],\n",
        "])\n",
        "\n",
        "D = np.array([\n",
        "    [2, 4, 5/2],\n",
        "    [-3/4, 2, 0.25],\n",
        "    [0.25, 0.5, 2]\n",
        "])\n",
        "\n",
        "E = np.array([\n",
        "    [1, -0.5],\n",
        "    [3/2, 0.5],\n",
        "    [0.25, 1]\n",
        "])"
      ]
    },
    {
      "cell_type": "markdown",
      "id": "E3P1iJL0ZTEoK-PKNqsU5",
      "metadata": {},
      "source": [
        "## Matrix Operations\n",
        "<article class=\"message task\"><a class=\"anchor\" id=\"diff\"></a>\n",
        "    <div class=\"message-header\">\n",
        "        <span>Task 1: Elementwise difference</span>\n",
        "        <span class=\"has-text-right\">\n",
        "          <i class=\"bi bi-code\"></i>\n",
        "          \n",
        "          \n",
        "          \n",
        "          <i class=\"bi bi-stoplights easy\"></i>\n",
        "        </span>\n",
        "    </div>\n",
        "<div class=\"message-body\">\n",
        "\n",
        "\n",
        "1. Calculate $A-B$ in the code cell below.\n",
        "\n",
        "\n",
        "\n",
        "</div></article>\n",
        "\n"
      ]
    },
    {
      "cell_type": "code",
      "execution_count": 6,
      "id": "mtsqkq6jderwAss7pPhiP",
      "metadata": {},
      "outputs": [
        {
          "data": {
            "text/plain": [
              "array([[ 17.        , -14.5       ,  14.33333333, -12.75      ],\n",
              "       [ 12.5       , -10.66666667,  10.25      ,  -8.8       ],\n",
              "       [  8.33333333,  -6.75      ,   6.2       ,  -4.83333333],\n",
              "       [  4.25      ,  -2.8       ,   2.16666667,  -0.85714286]])"
            ]
          },
          "execution_count": 6,
          "metadata": {},
          "output_type": "execute_result"
        }
      ],
      "source": [
        "# Write your solution here\n",
        "ab = A-B\n",
        "ab"
      ]
    },
    {
      "cell_type": "markdown",
      "id": "X_GsBGofrXrgTx1kBUATe",
      "metadata": {},
      "source": [
        "<article class=\"message task\"><a class=\"anchor\" id=\"mul_prop\"></a>\n",
        "    <div class=\"message-header\">\n",
        "        <span>Task 2: Multiplication properties</span>\n",
        "        <span class=\"has-text-right\">\n",
        "          <i class=\"bi bi-code\"></i>\n",
        "          \n",
        "          \n",
        "          <i class=\"bi bi-file-ppt\" style=\"color: blue;\"></i>\n",
        "          <i class=\"bi bi-stoplights easy\"></i>\n",
        "        </span>\n",
        "    </div>\n",
        "<div class=\"message-body\">\n",
        "\n",
        "\n",
        "1. Calculate $AC$ and $CA$ in the code cell below. (You may use either [`np.dot`\n",
        "](https://numpy.org/doc/stable/reference/generated/numpy.dot.html<elem-3>.dot)\n",
        " or the `@`\n",
        " operator).\n",
        "\n",
        "2. Explain why the results are different.\n",
        "\n",
        "3. Calculate $DE$ and $ED$ in the code cell below.\n",
        "\n",
        "4. Explain what happens and why.\n",
        "\n",
        "\n",
        "\n",
        "\n",
        "</div></article>\n",
        "\n"
      ]
    },
    {
      "cell_type": "code",
      "execution_count": 10,
      "id": "jbULG6Q_g7L-pFkSrnyXx",
      "metadata": {},
      "outputs": [
        {
          "name": "stdout",
          "output_type": "stream",
          "text": [
            "[[1.         0.5        0.33333333 0.25      ]\n",
            " [0.5        0.33333333 0.25       0.2       ]\n",
            " [0.33333333 0.25       0.2        0.16666667]\n",
            " [0.25       0.2        0.16666667 0.14285714]] \n",
            "\n",
            " [[1.         0.5        0.33333333 0.25      ]\n",
            " [0.5        0.33333333 0.25       0.2       ]\n",
            " [0.33333333 0.2        0.14285714 0.11111111]\n",
            " [0.25       0.14285714 0.125      0.11111111]] \n",
            "\n",
            " [[1.42361111 0.76904762 0.53720238 0.41481481]\n",
            " [0.8        0.43968254 0.31071429 0.24166667]\n",
            " [0.56666667 0.31380952 0.22301587 0.17407407]\n",
            " [0.44126984 0.24540816 0.175      0.13689153]] \n",
            "\n",
            " [[1.42361111 0.8        0.56666667 0.44126984]\n",
            " [0.8        0.46361111 0.33333333 0.26190476]\n",
            " [0.50873016 0.29126984 0.20820106 0.16301587]\n",
            " [0.39087302 0.22609127 0.16256614 0.12777778]]\n"
          ]
        }
      ],
      "source": [
        "# Write your solution here\n",
        "ac = A@C\n",
        "ca = C@A\n",
        "\n",
        "print(A, \"\\n\\n\", C, \"\\n\\n\", ac, \"\\n\\n\", ca)"
      ]
    },
    {
      "cell_type": "code",
      "execution_count": 18,
      "id": "54b72951",
      "metadata": {},
      "outputs": [
        {
          "name": "stdout",
          "output_type": "stream",
          "text": [
            "D [[ 2.    4.    2.5 ]\n",
            " [-0.75  2.    0.25]\n",
            " [ 0.25  0.5   2.  ]] \n",
            "\n",
            " E [[ 1.   -0.5 ]\n",
            " [ 1.5   0.5 ]\n",
            " [ 0.25  1.  ]] \n",
            "\n",
            " DE [[8.625  3.5   ]\n",
            " [2.3125 1.625 ]\n",
            " [1.5    2.125 ]] \n",
            "\n",
            " ED does not exist\n"
          ]
        }
      ],
      "source": [
        "de = D@E\n",
        "# ed = E@D\n",
        "\n",
        "print(\"D\", D, \"\\n\\n\", \"E\", E, \"\\n\\n\", \"DE\", de, \"\\n\\n\", \"ED does not exist\")"
      ]
    },
    {
      "cell_type": "markdown",
      "id": "p_9nUwzt6BJxo5bRnK2yH",
      "metadata": {},
      "source": [
        "<article class=\"message task\"><a class=\"anchor\" id=\"elem_mul\"></a>\n",
        "    <div class=\"message-header\">\n",
        "        <span>Task 3: Elementwise multiplication - Hadamard product</span>\n",
        "        <span class=\"has-text-right\">\n",
        "          <i class=\"bi bi-code\"></i>\n",
        "          \n",
        "          \n",
        "          \n",
        "          <i class=\"bi bi-stoplights easy\"></i>\n",
        "        </span>\n",
        "    </div>\n",
        "<div class=\"message-body\">\n",
        "\n",
        "\n",
        "1. Calculate the elementwise multiplication of $A$ and $C$ using the `*`\n",
        " operator.\n",
        "2. Explain the difference between the `*`\n",
        " and `@`\n",
        " operators and identify which one is matrix multiplication.\n",
        "\n",
        "\n",
        "\n",
        "</div></article>\n",
        "\n"
      ]
    },
    {
      "cell_type": "code",
      "execution_count": 24,
      "id": "Bo29U85ITN87yrRHY3rMi",
      "metadata": {},
      "outputs": [
        {
          "name": "stdout",
          "output_type": "stream",
          "text": [
            "A \n",
            " [[1.         0.5        0.33333333 0.25      ]\n",
            " [0.5        0.33333333 0.25       0.2       ]\n",
            " [0.33333333 0.25       0.2        0.16666667]\n",
            " [0.25       0.2        0.16666667 0.14285714]] \n",
            "\n",
            "C\n",
            " [[1.         0.5        0.33333333 0.25      ]\n",
            " [0.5        0.33333333 0.25       0.2       ]\n",
            " [0.33333333 0.2        0.14285714 0.11111111]\n",
            " [0.25       0.14285714 0.125      0.11111111]] \n",
            "\n",
            "a*c \n",
            " [[1.         0.25       0.11111111 0.0625    ]\n",
            " [0.25       0.11111111 0.0625     0.04      ]\n",
            " [0.11111111 0.05       0.02857143 0.01851852]\n",
            " [0.0625     0.02857143 0.02083333 0.01587302]] \n",
            "\n",
            " a@c \n",
            " [[1.42361111 0.76904762 0.53720238 0.41481481]\n",
            " [0.8        0.43968254 0.31071429 0.24166667]\n",
            " [0.56666667 0.31380952 0.22301587 0.17407407]\n",
            " [0.44126984 0.24540816 0.175      0.13689153]]\n"
          ]
        }
      ],
      "source": [
        "# Write your solution here\n",
        "a_c = A*C\n",
        "\n",
        "print(\"A \\n\", A, \"\\n\\nC\\n\", C, \"\\n\\na*c \\n\", a_c, '\\n\\n', \"a@c \\n\", ac)"
      ]
    },
    {
      "cell_type": "markdown",
      "id": "oK10bnFjOTnzlVgmjUiDO",
      "metadata": {},
      "source": [
        "---\n"
      ]
    }
  ],
  "metadata": {
    "kernelspec": {
      "display_name": "damin2025",
      "language": "python",
      "name": "python3"
    },
    "language_info": {
      "codemirror_mode": {
        "name": "ipython",
        "version": 3
      },
      "file_extension": ".py",
      "mimetype": "text/x-python",
      "name": "python",
      "nbconvert_exporter": "python",
      "pygments_lexer": "ipython3",
      "version": "3.12.11"
    }
  },
  "nbformat": 4,
  "nbformat_minor": 5
}
