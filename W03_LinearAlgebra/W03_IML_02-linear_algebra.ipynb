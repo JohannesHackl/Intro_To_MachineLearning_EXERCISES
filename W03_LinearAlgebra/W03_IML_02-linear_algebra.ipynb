{
  "cells": [
    {
      "cell_type": "code",
      "execution_count": 2,
      "id": "css_setup",
      "metadata": {
        "jupyter": {
          "source_hidden": true
        }
      },
      "outputs": [],
      "source": [
        "import requests\n",
        "# from IPython.core.display import HTML\n",
        "# HTML(f\"\"\"\n",
        "# <style>\n",
        "# @import \"https://cdn.jsdelivr.net/npm/bulma@0.9.4/css/bulma.min.css\";\n",
        "# </style>\n",
        "# \"\"\")"
      ]
    },
    {
      "cell_type": "code",
      "execution_count": 2,
      "id": "b465cf4c",
      "metadata": {},
      "outputs": [],
      "source": [
        "import numpy as np"
      ]
    },
    {
      "cell_type": "markdown",
      "id": "B3TwQP-xc8TzGN0yAStp9",
      "metadata": {},
      "source": [
        "# Solutions to functions\n",
        "<article class=\"message is-info\">\n",
        "  <div class=\"message-header\">Overview</div>\n",
        "  <div class=\"message-body\">\n",
        "  \n",
        "  In this exercise is about solutions to single and multivariate functions.\n",
        "\n",
        "  \n",
        "  </div>\n",
        "</article>\n",
        "\n",
        "\n",
        "<article class=\"message\">\n",
        "    <div class=\"message-body\">\n",
        "        <strong>List of individual tasks</strong>\n",
        "        <ul style=\"list-style: none;\">\n",
        "            <li>\n",
        "            <a href=\"#single\">Task 1: Solution multi-variate functions</a>\n",
        "            </li>\n",
        "            <li>\n",
        "            <a href=\"#weight1\">Task 2: Determine weights 1</a>\n",
        "            </li>\n",
        "            <li>\n",
        "            <a href=\"#weight2\">Task 3: Determine weights 2</a>\n",
        "            </li>\n",
        "            <li>\n",
        "            <a href=\"#weight3\">Task 4: Determine weights 2</a>\n",
        "            </li>\n",
        "            <li>\n",
        "            <a href=\"#loading\">Task 5: Reflection</a>\n",
        "            </li>\n",
        "        </ul>\n",
        "    </div>\n",
        "</article>\n",
        "\n",
        "<article class=\"message task\"><a class=\"anchor\" id=\"single\"></a>\n",
        "    <div class=\"message-header\">\n",
        "        <span>Task 1: Solution single-variate functions</span>\n",
        "        <span class=\"has-text-right\">\n",
        "          \n",
        "          \n",
        "          \n",
        "          \n",
        "          <i class=\"bi bi-stoplights easy\"></i>\n",
        "        </span>\n",
        "    </div>\n",
        "<div class=\"message-body\">\n",
        "\n",
        "\n",
        "Select the option(s) \\(A, B,\\) or \\(C\\) for which the input variables \\((x, y, z, t)\\) satisfy the single-variate functions.\n",
        "1. A: \\(x=10\\), B: \\(x=12\\), C: \\(x=15\\)\n",
        "\n",
        "\\[3x-7=2x+5\\]\n",
        "\n",
        "2. A: \\(y=1\\), B: \\(y=2\\), C: \\(y=3\\)\n",
        "\n",
        "\\[4y+\\tfrac y2=9\\]\n",
        "\n",
        "3. A: \\(x=4\\), B: \\(x=5\\), C: \\(x=6\\)\n",
        "\n",
        "\\[5(x-3)+2x=20\\]\n",
        "\n",
        "4. A: \\(t=6\\), B: \\(t=4\\), C: \\(t=10\\)\n",
        "\n",
        "\\[2t+3=\\tfrac t2+9\\]\n",
        "\n",
        "\n",
        "\n",
        "\n",
        "</div></article>\n",
        "\n"
      ]
    },
    {
      "cell_type": "code",
      "execution_count": 28,
      "id": "cFiz8xaxpMD6PqKsAS_Vz",
      "metadata": {},
      "outputs": [
        {
          "name": "stdout",
          "output_type": "stream",
          "text": [
            "False\n",
            "True\n",
            "False\n"
          ]
        }
      ],
      "source": [
        "#Write your answer here...\n",
        "xs = [10,12,15]\n",
        "\n",
        "for x in xs:\n",
        "    l = 3*x-7\n",
        "    r = 2*x+5\n",
        "    # print(np.isclose(l,r))\n",
        "    print(l==r)"
      ]
    },
    {
      "cell_type": "code",
      "execution_count": 20,
      "id": "7a8ca1c4",
      "metadata": {},
      "outputs": [
        {
          "name": "stdout",
          "output_type": "stream",
          "text": [
            "False\n",
            "True\n",
            "False\n"
          ]
        }
      ],
      "source": [
        "ys = [1,2,3]\n",
        "\n",
        "for y in ys:\n",
        "    l = 4*y+y/2\n",
        "    r = 9\n",
        "    print(np.isclose(l,r))"
      ]
    },
    {
      "cell_type": "code",
      "execution_count": 21,
      "id": "b1365b5a",
      "metadata": {},
      "outputs": [
        {
          "name": "stdout",
          "output_type": "stream",
          "text": [
            "False\n",
            "True\n",
            "False\n"
          ]
        }
      ],
      "source": [
        "xs = [4,5,6]\n",
        "\n",
        "for x in xs:\n",
        "    l = 5*(x-3)+2*x\n",
        "    r = 20\n",
        "    print(np.isclose(l,r))"
      ]
    },
    {
      "cell_type": "code",
      "execution_count": 22,
      "id": "771ab3e3",
      "metadata": {},
      "outputs": [
        {
          "name": "stdout",
          "output_type": "stream",
          "text": [
            "False\n",
            "True\n",
            "False\n"
          ]
        }
      ],
      "source": [
        "ts = [6,4,10]\n",
        "\n",
        "for t in ts:\n",
        "    l = 2*t+3\n",
        "    r = t/2+9\n",
        "    print(np.isclose(l,r))"
      ]
    },
    {
      "cell_type": "markdown",
      "id": "13n8uxOTlNL8XYKbqWZ4b",
      "metadata": {},
      "source": [
        "<article class=\"message task\"><a class=\"anchor\" id=\"single\"></a>\n",
        "    <div class=\"message-header\">\n",
        "        <span>Task 2: Solution multi-variate functions</span>\n",
        "        <span class=\"has-text-right\">\n",
        "          \n",
        "          \n",
        "          \n",
        "          \n",
        "          <i class=\"bi bi-stoplights easy\"></i>\n",
        "        </span>\n",
        "    </div>\n",
        "<div class=\"message-body\">\n",
        "\n",
        "\n",
        "Select the option(s) \\(A, B,\\) and/or \\(C\\) for which the input variables \\((x_1, x_2, x_3)\\) satisfy the multi-variate functions.\n",
        "1. A: \\((x_1=3, x_2=4)\\), B: \\((x_1=2, x_2=6)\\), C: \\((x_1=4, x_2=2)\\)\n",
        "\\[2x_1+3x_2=18\\]\n",
        "\n",
        "2. A: \\((x_2=2, x_1=7)\\), B: \\((x_1=6, x_2=1)\\), C: \\((x_2=4, x_1=8)\\)\n",
        "\\[x_1-x_2=5\\]\n",
        "\n",
        "3. A: \\((x_ 1=3, x_ 2=4)\\), B: \\((x_2=0, x_1=5)\\), C: \\((x_2=2, x_1=6)\\)\n",
        "\\[x_1^2+x_2^2=25\\]\n",
        "\n",
        "4. A: \\((x_1=2, x_2=4,, x_3=6)\\), B: \\((x_2=3, x_1=3, x_3=5)\\), C: \\((x_3=5, x_1=5, x_2=5)\\)\n",
        "\\[x_1+x_2+x_3=12\\]\n",
        "\n",
        "5. A: \\((x_3=3, x_1=2, x_2=1)\\), B: \\((x_2=2, x_1=3, x_3=3)\\), C: \\((x_1=4, x_3=5, x_2=1)\\)\n",
        "\\[2x_1-x_2+x_3=7\\]\n",
        "\n",
        "6. A: \\((x_2=5, x_1=2, x_3=4)\\), B: \\((x_3=2, x_2=4, x_1=3)\\), C: \\((x_1=4, x_2=3, x_3=2)\\)\n",
        "\\[x_1^2+x_2+x_3=15\\]\n",
        "\n",
        "7. A: \\((x_2=3, x_1=2, x_3=4)\\), B: \\((x_1=3, x_3=5, x_2=2)\\), C: \\((x_2=5, x_1=1, x_3=5)\\)\n",
        "\\[x_1x_2+x_3=10\\]\n",
        "\n",
        "\n",
        "\n",
        "\n",
        "</div></article>\n",
        "\n"
      ]
    },
    {
      "cell_type": "code",
      "execution_count": null,
      "id": "5YqbF6CfYIqQ5fGrIu-Gt",
      "metadata": {},
      "outputs": [
        {
          "name": "stdout",
          "output_type": "stream",
          "text": [
            "True\n",
            "False\n",
            "False\n"
          ]
        }
      ],
      "source": [
        "xs = [[3,4],[2,6],[4,2]]\n",
        "\n",
        "for x,y in xs:\n",
        "    l = 2*x+3*y\n",
        "    r = 18\n",
        "    print(np.isclose(l,r))"
      ]
    },
    {
      "cell_type": "code",
      "execution_count": null,
      "id": "911dc29b",
      "metadata": {},
      "outputs": [
        {
          "name": "stdout",
          "output_type": "stream",
          "text": [
            "False\n",
            "True\n",
            "False\n"
          ]
        }
      ],
      "source": [
        "xs = [[2,7],[6,1],[4,8]]\n",
        "\n",
        "for x,y in xs:\n",
        "    l = x-y\n",
        "    r = 5\n",
        "    print(np.isclose(l,r))"
      ]
    },
    {
      "cell_type": "code",
      "execution_count": 5,
      "id": "a09b9611",
      "metadata": {},
      "outputs": [
        {
          "name": "stdout",
          "output_type": "stream",
          "text": [
            "True\n",
            "True\n",
            "False\n"
          ]
        }
      ],
      "source": [
        "xs = [[3,4],[0,5],[2,6]]\n",
        "\n",
        "for x,y in xs:\n",
        "    l = x**2+y**2\n",
        "    r = 25\n",
        "    print(np.isclose(l,r))"
      ]
    },
    {
      "cell_type": "markdown",
      "id": "shP6pEpXSMpnk36Tn6k1-",
      "metadata": {},
      "source": [
        "<article class=\"message task\"><a class=\"anchor\" id=\"weight1\"></a>\n",
        "    <div class=\"message-header\">\n",
        "        <span>Task 3: Determine weights 1</span>\n",
        "        <span class=\"has-text-right\">\n",
        "          \n",
        "          \n",
        "          \n",
        "          \n",
        "          <i class=\"bi bi-stoplights easy\"></i>\n",
        "        </span>\n",
        "    </div>\n",
        "<div class=\"message-body\">\n",
        "\n",
        "\n",
        "Given the affine model: \n",
        "\\[y = w_1 x_1 + w_2 x_2 + w_3\\]\n",
        "Determine which of the weight options $(w_1, w_2, w_3)$ contain all data points below, such that all three points are on the plane:\n",
        "**Data points:**\n",
        "Input $x_i$, label $y$:\n",
        "- $x_1 = 2, x_2 = 0, y = 5  $\n",
        "- $x_1 = 1, x_2 = 1, y= 6  $\n",
        "- $x_1 = 0, x_2 = 2, y= 7  $\n",
        "\n",
        "**Options:**\n",
        "1. $(w_1, w_2, w_3) = (1, 0, 3)$\n",
        "2. $(w_1, w_2, w_3) = (1, 3, 2)$\n",
        "3. $(w_1, w_2, w_3) = (2, 3, 1)$\n",
        "\n",
        "\n",
        "\n",
        "</div></article>\n",
        "\n"
      ]
    },
    {
      "cell_type": "code",
      "execution_count": null,
      "id": "CTYyq7vb6S1S5BHlUSGW_",
      "metadata": {},
      "outputs": [
        {
          "name": "stdout",
          "output_type": "stream",
          "text": [
            "8\n"
          ]
        }
      ],
      "source": [
        "# A\n",
        "x1 = 2\n",
        "x2 = 0\n",
        "# y = 5\n",
        "\n",
        "# B\n",
        "x1 = 1\n",
        "x2 = 1\n",
        "# y = 6\n",
        "\n",
        "# C\n",
        "x1 = 0\n",
        "x2 = 2\n",
        "# y = 7\n",
        "\n",
        "w1, w2, w3 = 1,0,3    # points on the plane: A\n",
        "# w1, w2, w3 = 1,3,2    # points on the plane: B\n",
        "# w1, w2, w3 = 2,3,1    # points on the plane: A, B, C\n",
        "\n",
        "y = w1 * x1 + w2 * x2 + w3\n",
        "\n",
        "print(y)"
      ]
    },
    {
      "cell_type": "code",
      "execution_count": 70,
      "id": "767ada28",
      "metadata": {},
      "outputs": [
        {
          "name": "stdout",
          "output_type": "stream",
          "text": [
            "desired solution: [5 6 7] \n",
            "\n",
            "Weights: [1 0 3]\n",
            "Solution: [5 4 3]\n",
            "Matches? False\n",
            "\n",
            "\n",
            "Weights: [1 3 2]\n",
            "Solution: [4 6 8]\n",
            "Matches? False\n",
            "\n",
            "\n",
            "Weights: [2 3 1]\n",
            "Solution: [5 6 7]\n",
            "Matches? True\n",
            "\n",
            "\n"
          ]
        }
      ],
      "source": [
        "M = np.array([\n",
        "    [2,0,1],\n",
        "    [1,1,1],\n",
        "    [0,2,1]\n",
        "])\n",
        "\n",
        "solution = np.array([5,6,7])\n",
        "\n",
        "weights = np.array([\n",
        "    [1,0,3],\n",
        "    [1,3,2],\n",
        "    [2,3,1]\n",
        "])\n",
        "\n",
        "\n",
        "print(\"desired solution:\", solution, \"\\n\")\n",
        "\n",
        "for weight in weights:\n",
        "    print(\"Weights:\", weight)\n",
        "\n",
        "    b = M @ np.array(weight)\n",
        "\n",
        "    print(\"Solution:\", b)\n",
        "    match = (b == solution).sum() == 3\n",
        "    print(\"Matches?\", match)\n",
        "    print(\"\\n\")"
      ]
    },
    {
      "cell_type": "markdown",
      "id": "6rGxR55bnh1wXR227TGS5",
      "metadata": {},
      "source": [
        "<article class=\"message task\"><a class=\"anchor\" id=\"weight2\"></a>\n",
        "    <div class=\"message-header\">\n",
        "        <span>Task 4: Determine weights 2</span>\n",
        "        <span class=\"has-text-right\">\n",
        "          \n",
        "          \n",
        "          \n",
        "          \n",
        "          <i class=\"bi bi-stoplights medium\"></i>\n",
        "        </span>\n",
        "    </div>\n",
        "<div class=\"message-body\">\n",
        "\n",
        "\n",
        "Given the affine model:\n",
        "\\[y = w_1 x_1 + w_2 x_2 + w_3\\]\n",
        "1. Determine the values of the weights $w = (w_1, w_2, w_3)$ that make the model fit all of the points:\n",
        "\n",
        "- $x_1 =1, x_2= 0, y = 2$\n",
        "- $x_1 = 0, x_2 = 1, y = 3$\n",
        "- $x_1 = 1, x_2 = 1, y = 6$\n",
        "\n",
        "2. Rewrite the affine model as an inner-product using inputs and labels.\n",
        "3. Rewrite the model in matrix form $(Aw = y)$ using the input points and labels, with $w$ as the vector of unknowns to solve for.\n",
        "\n",
        "\n",
        "\n",
        "</div></article>\n",
        "\n"
      ]
    },
    {
      "cell_type": "code",
      "execution_count": null,
      "id": "87d68be0",
      "metadata": {},
      "outputs": [],
      "source": [
        "# b = [w1,w2,w3] * [x1,x2,1]"
      ]
    },
    {
      "cell_type": "code",
      "execution_count": 23,
      "id": "6o79fQtZ760Xou2dCuo3q",
      "metadata": {},
      "outputs": [],
      "source": [
        "b = w1 * x1 * w2 * x2 + w3\n",
        "\n",
        "A = np.array([\n",
        "    [1,0,1],\n",
        "    [0,1,1],\n",
        "    [1,1,1]\n",
        "])\n",
        "\n",
        "x = np.array([2,3,6])"
      ]
    },
    {
      "cell_type": "code",
      "execution_count": null,
      "id": "2deca666",
      "metadata": {},
      "outputs": [
        {
          "data": {
            "text/plain": [
              "array([ 3.,  4., -1.])"
            ]
          },
          "execution_count": 24,
          "metadata": {},
          "output_type": "execute_result"
        }
      ],
      "source": [
        "sol = np.linalg.solve(A,x)\n",
        "sol # [3, 4, -1]"
      ]
    },
    {
      "cell_type": "markdown",
      "id": "QVYkY9qO_q22kHJlmXYQs",
      "metadata": {},
      "source": [
        "<article class=\"message task\"><a class=\"anchor\" id=\"weight3\"></a>\n",
        "    <div class=\"message-header\">\n",
        "        <span>Task 5: Determine weights 2</span>\n",
        "        <span class=\"has-text-right\">\n",
        "          \n",
        "          \n",
        "          \n",
        "          <i class=\"bi bi-file-ppt\" style=\"color: blue;\"></i>\n",
        "          <i class=\"bi bi-stoplights medium\"></i>\n",
        "        </span>\n",
        "    </div>\n",
        "<div class=\"message-body\">\n",
        "\n",
        "\n",
        "Rewrite the affine model as an inner-product seperating weights and inputs. If not possible, explain why. \n",
        "A: \n",
        "$$y = w_1 \\cos(x_1) + w_2 x_2^2 + w_3$$\n",
        "\n",
        "\n",
        "B: \n",
        "$$y = e^{x_1} w_1  + w_2 x_2^2 + w_3$$\n",
        " \n",
        "C: \n",
        "$$y =  w_3 + \\sin(x_1) w_1  + w_2 \\ln(x_2)$$\n",
        "\n",
        "\n",
        "D: \n",
        "$$y =  w_1 x_1 x_2  + w_2 x_2 + w_3$$\n",
        "\n",
        "\n",
        "E: \n",
        "$$y =  w_1 x_1 + w_2 \\sin(x_2)  + w_3 x_3 + w_4 \\cos(x_4) + w_5$$\n",
        "\n",
        "\n",
        "F: \n",
        "$$y =  w_1 x_1 + w_4\\sin(x_2)  + w_2 x_3 + w_3 \\cos(x_4) + w_4$$\n",
        "\n",
        "\n",
        "\n",
        "</div></article>\n",
        "\n"
      ]
    },
    {
      "cell_type": "code",
      "execution_count": 0,
      "id": "B_9r6mkoEPqb9SMwYmZDG",
      "metadata": {},
      "outputs": [],
      "source": [
        "#A:  y = [w1, w2, w3] @ [cos(x1), x2ˆ2,    1,       0,         0]\n",
        "#B:  y = [w1, w2, w3] @ [eˆx1,    x2ˆ2,    1,       0,         0]\n",
        "#C:  y = [w1, w2, w3] @ [sin(x1), ln(x2),  1,       0,         0]\n",
        "#D:  y = [w1, w2, w3] @ [x1*x2,   x2,      1,       0,         0]  --------- !!!!!\n",
        "#E:  y = [w1, w2, w3] @ [x1,      sin(x2), x3,      cos(x4),   1]\n",
        "#F:  y = [w1, w2, w3] @ [x1,      x3,      cos(x4), 1+sin(x2), 0]  --------- !!!!!"
      ]
    },
    {
      "cell_type": "markdown",
      "id": "4jb_0rhoQVimw6FgYawH6",
      "metadata": {},
      "source": [
        "<article class=\"message task\"><a class=\"anchor\" id=\"loading\"></a>\n",
        "    <div class=\"message-header\">\n",
        "        <span>Task 6: Reflection</span>\n",
        "        <span class=\"has-text-right\">\n",
        "          \n",
        "          \n",
        "          <i class=\"bi bi-lightbulb-fill\"></i>\n",
        "          <i class=\"bi bi-file-ppt\" style=\"color: blue;\"></i>\n",
        "          <i class=\"bi bi-stoplights easy\"></i>\n",
        "        </span>\n",
        "    </div>\n",
        "<div class=\"message-body\">\n",
        "\n",
        "\n",
        "1. How do these exercises relate to fitting a model to data?\n",
        "\n",
        "2. Each of the exercises above are designed to have a single exact solution. How does assuming a single exact solution relate to real world problems? Consider inputs and labels as part of your argument. \n",
        "\n",
        "3. In [Task 3](#weight2), what would happen, if more than three training points were available?\n",
        "\n",
        "4. What would happen to the solutions if the training points have small errors (noise)?\n",
        "\n",
        "5. In [Task 4](#weight3) use $D, E$ and $F$ to argue for what linearity means in different variables.\n",
        "\n",
        "\n",
        "\n",
        "\n",
        "</div></article>\n",
        "\n"
      ]
    },
    {
      "cell_type": "code",
      "execution_count": 0,
      "id": "tvPOCDtyYOtNrnmQK0Dne",
      "metadata": {},
      "outputs": [],
      "source": [
        "#Write your reflections here..."
      ]
    },
    {
      "cell_type": "markdown",
      "id": "8nTPH-oh2zDAtjJaD1kPj",
      "metadata": {},
      "source": []
    }
  ],
  "metadata": {
    "kernelspec": {
      "display_name": "damin2025",
      "language": "python",
      "name": "python3"
    },
    "language_info": {
      "codemirror_mode": {
        "name": "ipython",
        "version": 3
      },
      "file_extension": ".py",
      "mimetype": "text/x-python",
      "name": "python",
      "nbconvert_exporter": "python",
      "pygments_lexer": "ipython3",
      "version": "3.12.11"
    }
  },
  "nbformat": 4,
  "nbformat_minor": 5
}
